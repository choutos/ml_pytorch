{
 "cells": [
  {
   "cell_type": "markdown",
   "metadata": {},
   "source": [
    "# Regularization\n",
    "Regularisation is a process of introducing additional information in order to prevent overfitting. The focus for this notebook is L1 and L2 regularization.\n",
    "\n",
    "### What is L1 and L2?\n",
    "L1 and L2 regularisation owes its name to L1 and L2 norm of a vector w respectively. Here’s a primer on norms:\n",
    "\n",
    "###### 1-norm (also known as L1 norm):\n",
    "$ ||w||_1 = |w_1|+|w_2|+...+|w_N| $  \n",
    "\n",
    "###### 2-norm (also known as L2 norm or Euclidean norm)\n",
    "$ ||w||_2 = (|w_1|^2 + |w_2|^2 + ... + |w_N|^2)^\\frac{1}{2} $\n",
    "\n",
    "######  p-norm\n",
    "$ ||w||_p = (|w_1|^p + |w_2|^p + ... + |w_N|^p)^\\frac{1}{p} $"
   ]
  },
  {
   "cell_type": "markdown",
   "metadata": {},
   "source": [
    "A linear regression model that implements L1 norm for regularization is called **lasso regression**."
   ]
  },
  {
   "cell_type": "markdown",
   "metadata": {},
   "source": [
    "## Regularization Exercise\n",
    "Perhaps it's not too surprising at this point, but there are classes in sklearn that will help us perform regularization with our linear regression. Let's get practice with implementing that in this exercise. In `data/regular.csv`, there is data for a bunch of points including six predictor variables and one outcome variable. Use sklearn's [Lasso](http://scikit-learn.org/stable/modules/generated/sklearn.linear_model.Lasso.html) class to fit a linear regression model to the data, while also using L1 regularization to control for model complexity."
   ]
  },
  {
   "cell_type": "markdown",
   "metadata": {},
   "source": [
    "#### 1. Import libraries and load the data\n",
    "* The data is in the file `data/regular.csv`. Note that there's **no header row** on this file.\n",
    "* Split the data so that the six predictor features (first six columns) are stored in `X`, and the outcome feature (last column) is stored in `y`."
   ]
  },
  {
   "cell_type": "code",
   "execution_count": 1,
   "metadata": {},
   "outputs": [],
   "source": [
    "import numpy as np\n",
    "import pandas as pd\n",
    "from sklearn.linear_model import Lasso"
   ]
  },
  {
   "cell_type": "code",
   "execution_count": 2,
   "metadata": {},
   "outputs": [],
   "source": [
    "train_data = pd.read_csv('data/regular.csv', header=None)\n",
    "X = train_data.iloc[:,:-1]\n",
    "y = train_data.iloc[:,-1]"
   ]
  },
  {
   "cell_type": "markdown",
   "metadata": {},
   "source": [
    "#### 2. Fit data using linear regression with Lasso regularization\n",
    "* Create an instance of sklearn's `Lasso` class and assign it to the variable `lasso_reg`. No need to set any parameter values: use the default values for this exercise."
   ]
  },
  {
   "cell_type": "code",
   "execution_count": 3,
   "metadata": {},
   "outputs": [],
   "source": [
    "lasso_reg = Lasso()"
   ]
  },
  {
   "cell_type": "markdown",
   "metadata": {},
   "source": [
    "* Use the `Lasso` object's [.fit()](https://scikit-learn.org/stable/modules/generated/sklearn.linear_model.Lasso.html#sklearn.linear_model.Lasso.fit) method to fit the regression model onto the data."
   ]
  },
  {
   "cell_type": "code",
   "execution_count": 4,
   "metadata": {},
   "outputs": [
    {
     "data": {
      "text/plain": [
       "Lasso(alpha=1.0, copy_X=True, fit_intercept=True, max_iter=1000,\n",
       "      normalize=False, positive=False, precompute=False, random_state=None,\n",
       "      selection='cyclic', tol=0.0001, warm_start=False)"
      ]
     },
     "execution_count": 4,
     "metadata": {},
     "output_type": "execute_result"
    }
   ],
   "source": [
    "lasso_reg.fit(X,y)"
   ]
  },
  {
   "cell_type": "markdown",
   "metadata": {},
   "source": [
    "#### 3. Inspect the coefficients of the regression model\n",
    "* Obtain the coefficients of the fit regression model using the `coef_` attribute of the `Lasso` object. Store this in the `reg_coef` variable. Finally, the coefficients should be printed out."
   ]
  },
  {
   "cell_type": "code",
   "execution_count": 5,
   "metadata": {},
   "outputs": [
    {
     "name": "stdout",
     "output_type": "stream",
     "text": [
      "[ 0.          2.35793224  2.00441646 -0.05511954 -3.92808318  0.        ]\n"
     ]
    }
   ],
   "source": [
    "reg_coef = lasso_reg.coef_\n",
    "print(reg_coef)"
   ]
  }
 ],
 "metadata": {
  "kernelspec": {
   "display_name": "Python 3",
   "language": "python",
   "name": "python3"
  },
  "language_info": {
   "codemirror_mode": {
    "name": "ipython",
    "version": 3
   },
   "file_extension": ".py",
   "mimetype": "text/x-python",
   "name": "python",
   "nbconvert_exporter": "python",
   "pygments_lexer": "ipython3",
   "version": "3.8.3"
  }
 },
 "nbformat": 4,
 "nbformat_minor": 4
}
