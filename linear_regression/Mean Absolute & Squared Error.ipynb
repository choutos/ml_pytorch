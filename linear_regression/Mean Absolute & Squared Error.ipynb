{
 "cells": [
  {
   "cell_type": "markdown",
   "metadata": {},
   "source": [
    "## Mean Absolute Error\n",
    "We know that an error basically is the absolute difference between the actual or true values and the values that are predicted. Absolute difference means that if the result has a negative sign, it is ignored.\n",
    "\n",
    "Hence, MAE = True values – Predicted values\n",
    "\n",
    "MAE takes the average of this error from every sample in a dataset and gives the output."
   ]
  },
  {
   "cell_type": "markdown",
   "metadata": {},
   "source": [
    "$ Error = (\\frac{1}{m})\\sum_{i=1}^{m}|y- \\hat{y}|$"
   ]
  },
  {
   "cell_type": "markdown",
   "metadata": {},
   "source": [
    "##### Exercise for Mean Absolute Error\n",
    "Compute the mean absolute error for the following line and points:\n",
    "\n",
    "line: $y = 1.2x + 2$  \n",
    "points: (2,-2),(5,6),(-4,-4),(-7,1),(8,14)  "
   ]
  },
  {
   "cell_type": "markdown",
   "metadata": {},
   "source": [
    "*Solution: 3.88*"
   ]
  },
  {
   "cell_type": "code",
   "execution_count": 7,
   "metadata": {},
   "outputs": [
    {
     "data": {
      "text/plain": [
       "3.88"
      ]
     },
     "execution_count": 7,
     "metadata": {},
     "output_type": "execute_result"
    }
   ],
   "source": [
    "from sklearn.metrics import mean_absolute_error\n",
    "\n",
    "def y(x):\n",
    "    return 1.2*x+2\n",
    "actual_values = [y(2),y(5),y(-4),y(-7),y(8)]\n",
    "predicted_values = [-2,6,-4,1,14]\n",
    "\n",
    "mean_absolute_error(actual_values, predicted_values)"
   ]
  },
  {
   "cell_type": "markdown",
   "metadata": {},
   "source": [
    "## Mean Squared Error\n",
    "MSE is calculated by taking the average of the square of the difference between the original and predicted values of the data."
   ]
  },
  {
   "cell_type": "markdown",
   "metadata": {},
   "source": [
    "$ Error = (\\frac{1}{2m})\\sum_{i=1}^{m}(y- \\hat{y})^2$"
   ]
  },
  {
   "cell_type": "markdown",
   "metadata": {},
   "source": [
    "##### Exercise for Mean Squared Error\n",
    "Compute the mean squared error for the following line and points:\n",
    "\n",
    "line: $y = 1.2x + 2$  \n",
    "points: (2,-2),(5,6),(-4,-4),(-7,1),(8,14)  "
   ]
  },
  {
   "cell_type": "markdown",
   "metadata": {},
   "source": [
    "*Solution: 21.384*"
   ]
  },
  {
   "cell_type": "code",
   "execution_count": 8,
   "metadata": {},
   "outputs": [
    {
     "data": {
      "text/plain": [
       "21.384000000000004"
      ]
     },
     "execution_count": 8,
     "metadata": {},
     "output_type": "execute_result"
    }
   ],
   "source": [
    "from sklearn.metrics import mean_squared_error\n",
    "\n",
    "def y(x):\n",
    "    return 1.2*x+2\n",
    "actual_values = [y(2),y(5),y(-4),y(-7),y(8)]\n",
    "predicted_values = [-2,6,-4,1,14]\n",
    "\n",
    "mean_squared_error(actual_values, predicted_values)"
   ]
  }
 ],
 "metadata": {
  "kernelspec": {
   "display_name": "Python 3",
   "language": "python",
   "name": "python3"
  },
  "language_info": {
   "codemirror_mode": {
    "name": "ipython",
    "version": 3
   },
   "file_extension": ".py",
   "mimetype": "text/x-python",
   "name": "python",
   "nbconvert_exporter": "python",
   "pygments_lexer": "ipython3",
   "version": "3.8.2"
  }
 },
 "nbformat": 4,
 "nbformat_minor": 4
}
