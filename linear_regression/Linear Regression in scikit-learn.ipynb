{
 "cells": [
  {
   "cell_type": "markdown",
   "metadata": {},
   "source": [
    "# Linear Regression\n",
    "In this section, we'll use linear regression to predict life expectancy from [body mass index (BMI)].\n",
    "Before doing that, let's go over the tools required to build this model.\n",
    "\n",
    "For our linear regression model, we'll be using scikit-learn's [LinearRegression](http://scikit-learn.org/stable/modules/generated/sklearn.linear_model.LinearRegression.html) class. This class provides the function [fit()](http://scikit-learn.org/stable/modules/generated/sklearn.linear_model.LinearRegression.html#sklearn.linear_model.LinearRegression.fit) to fit the model to our data."
   ]
  },
  {
   "cell_type": "markdown",
   "metadata": {},
   "source": [
    "```\n",
    ">>> from sklearn.linear_model import LinearRegression\n",
    ">>> model = LinearRegression()\n",
    ">>> model.fit(x_values, y_values)\n",
    "```"
   ]
  },
  {
   "cell_type": "markdown",
   "metadata": {},
   "source": [
    "In the example above, the `model` variable is a linear regression model that has been fitted to the data `x_values` and `y_values`. Fitting the model means finding the best line that fits the training data. Let's make two predictions using the model's [predict()](http://scikit-learn.org/stable/modules/generated/sklearn.linear_model.LinearRegression.html#sklearn.linear_model.LinearRegression.predict) function.\n",
    "\n",
    "```\n",
    ">>> print(model.predict([ [127], [248] ]))\n",
    "[[ 438.94308857, 127.14839521]]\n",
    "```\n",
    "\n",
    "The model returned an array of predictions, one prediction for each input array. The first input, `[127]`, got a prediction of `438.94308857`. The second input, `[248]`. got a prediction of `127.14839521`. The reason for predicting on an array like `[127]` and not just `127`, is because you can have a model that makes a prediction using multiple features. We'll go over using multiple variables in linear regression later. For now, let's stick to a single value."
   ]
  },
  {
   "cell_type": "markdown",
   "metadata": {},
   "source": [
    "### Linear Regression Exercise\n",
    "In this example, we'll be working with data on the average life expectancy at birth and the average BMI for males across the world. The data comes from [Gapminder](https://www.gapminder.org/).\n",
    "\n",
    "The data file \"bmi_and_life_expectancy.csv\" includes three columns, containing the following data:"
   ]
  }
 ],
 "metadata": {
  "kernelspec": {
   "display_name": "Python 3",
   "language": "python",
   "name": "python3"
  },
  "language_info": {
   "codemirror_mode": {
    "name": "ipython",
    "version": 3
   },
   "file_extension": ".py",
   "mimetype": "text/x-python",
   "name": "python",
   "nbconvert_exporter": "python",
   "pygments_lexer": "ipython3",
   "version": "3.8.2"
  }
 },
 "nbformat": 4,
 "nbformat_minor": 4
}
